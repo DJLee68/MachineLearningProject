{
  "nbformat": 4,
  "nbformat_minor": 0,
  "metadata": {
    "kernelspec": {
      "display_name": "Python 3",
      "language": "python",
      "name": "python3"
    },
    "language_info": {
      "codemirror_mode": {
        "name": "ipython",
        "version": 3
      },
      "file_extension": ".py",
      "mimetype": "text/x-python",
      "name": "python",
      "nbconvert_exporter": "python",
      "pygments_lexer": "ipython3",
      "version": "3.6.8"
    },
    "colab": {
      "name": "20154652DJLee_assignment-03-a.ipynb",
      "provenance": [],
      "include_colab_link": true
    },
    "accelerator": "GPU"
  },
  "cells": [
    {
      "cell_type": "markdown",
      "metadata": {
        "id": "view-in-github",
        "colab_type": "text"
      },
      "source": [
        "<a href=\"https://colab.research.google.com/github/DJLee68/MachineLearningProject/blob/master/Assignment03/20154652DJLee_assignment_03_a.ipynb\" target=\"_parent\"><img src=\"https://colab.research.google.com/assets/colab-badge.svg\" alt=\"Open In Colab\"/></a>"
      ]
    },
    {
      "cell_type": "markdown",
      "metadata": {
        "id": "cElHISmiGAJD",
        "colab_type": "text"
      },
      "source": [
        "# Manipulate PyTorch Tensors\n",
        "<hr>\n",
        "\n",
        "## Matrix manipulation"
      ]
    },
    {
      "cell_type": "code",
      "metadata": {
        "id": "hGzonsHQGAJE",
        "colab_type": "code",
        "colab": {}
      },
      "source": [
        "import torch"
      ],
      "execution_count": 1,
      "outputs": []
    },
    {
      "cell_type": "markdown",
      "metadata": {
        "id": "Sm2Cj907GAJG",
        "colab_type": "text"
      },
      "source": [
        "### Make the matrices A and B below. Add them together to obtain a matrix C. Print these three matrices.\n",
        "$$\n",
        "A =\\begin{bmatrix}\n",
        "1 & 2 \\\\ 3 & 4\n",
        "\\end{bmatrix}  \n",
        "\\qquad \n",
        "B =\\begin{bmatrix}\n",
        "10 & 20 \\\\ 30 & 40\n",
        "\\end{bmatrix}  \\qquad C=A+B =?\n",
        "$$"
      ]
    },
    {
      "cell_type": "code",
      "metadata": {
        "id": "glz1hlb7GAJH",
        "colab_type": "code",
        "colab": {
          "base_uri": "https://localhost:8080/",
          "height": 153
        },
        "outputId": "3c7f08b0-5f0f-4cfc-d943-b193c96c24b9"
      },
      "source": [
        "\n",
        "# write your code here\n",
        "\n",
        "A = torch.tensor([\n",
        "                  [1.,2.],\n",
        "                  [3.,4.]\n",
        "])\n",
        "B = torch.tensor([\n",
        "                  [10,20],\n",
        "                  [30,40]\n",
        "])\n",
        "C = torch.add(A, B)\n",
        "\n",
        "# print\n",
        "print(A)\n",
        "print('')\n",
        "print(B)\n",
        "print('')\n",
        "print(C)"
      ],
      "execution_count": 4,
      "outputs": [
        {
          "output_type": "stream",
          "text": [
            "tensor([[1., 2.],\n",
            "        [3., 4.]])\n",
            "\n",
            "tensor([[10, 20],\n",
            "        [30, 40]])\n",
            "\n",
            "tensor([[11., 22.],\n",
            "        [33., 44.]])\n"
          ],
          "name": "stdout"
        }
      ]
    },
    {
      "cell_type": "markdown",
      "metadata": {
        "id": "D2MFMhmcGAJJ",
        "colab_type": "text"
      },
      "source": [
        "### Print the dimension, size and type of the matrix A. Remember, the commands are dim(), size() and type()"
      ]
    },
    {
      "cell_type": "code",
      "metadata": {
        "id": "f8PS8ukAGAJK",
        "colab_type": "code",
        "colab": {
          "base_uri": "https://localhost:8080/",
          "height": 102
        },
        "outputId": "4de8ef53-1409-4470-df41-62f4e46b5bd3"
      },
      "source": [
        "\n",
        "# write your code here\n",
        "\n",
        "print(A.dim())    # print the dimension of the matrix A\n",
        "print('')\n",
        "print(A.size())    # print the size of the matrix A\n",
        "print('')\n",
        "print(A.type())    # print the type of the matrix A"
      ],
      "execution_count": 5,
      "outputs": [
        {
          "output_type": "stream",
          "text": [
            "2\n",
            "\n",
            "torch.Size([2, 2])\n",
            "\n",
            "torch.FloatTensor\n"
          ],
          "name": "stdout"
        }
      ]
    },
    {
      "cell_type": "markdown",
      "metadata": {
        "id": "z9n6HTJvGAJM",
        "colab_type": "text"
      },
      "source": [
        "### Convert the matrix A to be an integer matrix  (type LongTensor). Remember, the command is long(). Then print the type to check it was indeed converted."
      ]
    },
    {
      "cell_type": "code",
      "metadata": {
        "id": "ZX-6LNkwGAJN",
        "colab_type": "code",
        "colab": {}
      },
      "source": [
        "\n",
        "# write your code here\n",
        "\n",
        "A_long = \n",
        "\n",
        "print( )    # print the type of A_long\n",
        "print('')\n",
        "print( )    # print the type of A"
      ],
      "execution_count": null,
      "outputs": []
    },
    {
      "cell_type": "markdown",
      "metadata": {
        "id": "14ogcBBjGAJQ",
        "colab_type": "text"
      },
      "source": [
        "### Make a random 5 x 2 x 3 Tensor. The command is torch.rand.  Then do the following:   1) Print the tensor,  2) Print its type, 3) Print its dimension,  4) Print its size, 5) Print the size of its middle dimension."
      ]
    },
    {
      "cell_type": "code",
      "metadata": {
        "id": "l8UTw2MMGAJQ",
        "colab_type": "code",
        "colab": {
          "base_uri": "https://localhost:8080/",
          "height": 323
        },
        "outputId": "c2d1b2fe-c991-4255-c50c-dc227de63190"
      },
      "source": [
        "\n",
        "# write your code here\n",
        "\n",
        "A = torch.rand(5,2,3)\n",
        "\n",
        "print(A)\n",
        "print(A.type())    # print the type of A\n",
        "print(A.dim())    # print the dimension of A\n",
        "print(A.size())    # print the size of A\n",
        "print(A.size()[1])    # print the size of the middle (second) dimension"
      ],
      "execution_count": 6,
      "outputs": [
        {
          "output_type": "stream",
          "text": [
            "tensor([[[0.0099, 0.3990, 0.7723],\n",
            "         [0.7615, 0.7205, 0.1380]],\n",
            "\n",
            "        [[0.9182, 0.2374, 0.6588],\n",
            "         [0.9583, 0.8657, 0.3090]],\n",
            "\n",
            "        [[0.9776, 0.7947, 0.2261],\n",
            "         [0.8101, 0.8537, 0.4640]],\n",
            "\n",
            "        [[0.8003, 0.6208, 0.4175],\n",
            "         [0.0509, 0.6074, 0.8974]],\n",
            "\n",
            "        [[0.4530, 0.4563, 0.7724],\n",
            "         [0.2431, 0.5122, 0.0305]]])\n",
            "torch.FloatTensor\n",
            "3\n",
            "torch.Size([5, 2, 3])\n",
            "2\n"
          ],
          "name": "stdout"
        }
      ]
    },
    {
      "cell_type": "markdown",
      "metadata": {
        "id": "_tvb2nitGAJT",
        "colab_type": "text"
      },
      "source": [
        "### Make 2 x 3 x 4 x 5 tensor filled with zeros then print it. (The command is torch.zeros). See if you can make sense of the display."
      ]
    },
    {
      "cell_type": "code",
      "metadata": {
        "id": "3rh0nEQ5GAJT",
        "colab_type": "code",
        "colab": {
          "base_uri": "https://localhost:8080/",
          "height": 527
        },
        "outputId": "a62a91d1-6632-4ebb-de45-60bff13e3adc"
      },
      "source": [
        "\n",
        "# write your code here\n",
        "\n",
        "A = torch.zeros(2,3,4,5)\n",
        "\n",
        "print(A)\n"
      ],
      "execution_count": 7,
      "outputs": [
        {
          "output_type": "stream",
          "text": [
            "tensor([[[[0., 0., 0., 0., 0.],\n",
            "          [0., 0., 0., 0., 0.],\n",
            "          [0., 0., 0., 0., 0.],\n",
            "          [0., 0., 0., 0., 0.]],\n",
            "\n",
            "         [[0., 0., 0., 0., 0.],\n",
            "          [0., 0., 0., 0., 0.],\n",
            "          [0., 0., 0., 0., 0.],\n",
            "          [0., 0., 0., 0., 0.]],\n",
            "\n",
            "         [[0., 0., 0., 0., 0.],\n",
            "          [0., 0., 0., 0., 0.],\n",
            "          [0., 0., 0., 0., 0.],\n",
            "          [0., 0., 0., 0., 0.]]],\n",
            "\n",
            "\n",
            "        [[[0., 0., 0., 0., 0.],\n",
            "          [0., 0., 0., 0., 0.],\n",
            "          [0., 0., 0., 0., 0.],\n",
            "          [0., 0., 0., 0., 0.]],\n",
            "\n",
            "         [[0., 0., 0., 0., 0.],\n",
            "          [0., 0., 0., 0., 0.],\n",
            "          [0., 0., 0., 0., 0.],\n",
            "          [0., 0., 0., 0., 0.]],\n",
            "\n",
            "         [[0., 0., 0., 0., 0.],\n",
            "          [0., 0., 0., 0., 0.],\n",
            "          [0., 0., 0., 0., 0.],\n",
            "          [0., 0., 0., 0., 0.]]]])\n"
          ],
          "name": "stdout"
        }
      ]
    },
    {
      "cell_type": "code",
      "metadata": {
        "id": "ss6POugTJeXR",
        "colab_type": "code",
        "colab": {}
      },
      "source": [
        ""
      ],
      "execution_count": null,
      "outputs": []
    }
  ]
}