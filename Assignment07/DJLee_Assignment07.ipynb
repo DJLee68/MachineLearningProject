{
  "nbformat": 4,
  "nbformat_minor": 0,
  "metadata": {
    "colab": {
      "name": "Assignment07/DJLee_Assignment07",
      "provenance": [],
      "collapsed_sections": [],
      "toc_visible": true,
      "authorship_tag": "ABX9TyNUKo+H/LJvDIC1x0jf9Gzr",
      "include_colab_link": true
    },
    "kernelspec": {
      "name": "python3",
      "display_name": "Python 3"
    },
    "accelerator": "GPU"
  },
  "cells": [
    {
      "cell_type": "markdown",
      "metadata": {
        "id": "view-in-github",
        "colab_type": "text"
      },
      "source": [
        "<a href=\"https://colab.research.google.com/github/DJLee68/MachineLearningProject/blob/master/Assignment07/DJLee_Assignment07.ipynb\" target=\"_parent\"><img src=\"https://colab.research.google.com/assets/colab-badge.svg\" alt=\"Open In Colab\"/></a>"
      ]
    },
    {
      "cell_type": "code",
      "metadata": {
        "id": "MrjtpPGc5m9p"
      },
      "source": [
        "import numpy as np\n",
        "import matplotlib.pyplot as plt\n",
        "import pandas as pd\n",
        "\n",
        "dataset = pd.read_csv('data-kmeans.csv')\n",
        "data = dataset.values\n",
        "k = 5"
      ],
      "execution_count": 7,
      "outputs": []
    },
    {
      "cell_type": "code",
      "metadata": {
        "id": "gRb9JE7X-GdU"
      },
      "source": [
        "def compute_distance(a, b):\n",
        "\n",
        "    dist = np.square(a[0] - b[0]) + np.square(a[1] - b[1])\n",
        "\n",
        "    return dist"
      ],
      "execution_count": 8,
      "outputs": []
    },
    {
      "cell_type": "code",
      "metadata": {
        "id": "xIvjcDchAky7"
      },
      "source": [
        "def compute_centroid(Z, label):\n",
        "    center = []\n",
        "    for i in range(k): #{\n",
        "      idx = [j for j in range(len(label)) if label[j] == i]\n",
        "      center.append(np.mean(Z[idx][0]), np.mean(Z[idx][1]))\n",
        "    #}\n",
        "\n",
        "    return center"
      ],
      "execution_count": 6,
      "outputs": []
    },
    {
      "cell_type": "code",
      "metadata": {
        "id": "MW1aBZqrBq4o"
      },
      "source": [
        "def compute_label(z, M):\n",
        "\n",
        "    label = []\n",
        "    for i in range(len(z)): #{\n",
        "      x = z[0]\n",
        "      y = z[1]\n",
        "      dist = []\n",
        "      for j in range(len(M)): #{\n",
        "        dist.append(compute_distance(z[i], M[j]))    \n",
        "      #}    \n",
        "      label.append(np.argmin(dist))\n",
        "    #}\n",
        "    \n",
        "    return label\n"
      ],
      "execution_count": 9,
      "outputs": []
    },
    {
      "cell_type": "code",
      "metadata": {
        "id": "CzR4ztfzCR1Q"
      },
      "source": [
        "def compute_loss(C, M):\n",
        "\n",
        "    loss = 0\n",
        "    for i in range(len(C)): #{\n",
        "      loss += compute_distance(data[i], M[compute_label[i]])\n",
        "    #}\n",
        "\n",
        "    loss = loss / len(C)\n",
        "    \n",
        "    return loss\n"
      ],
      "execution_count": 10,
      "outputs": []
    },
    {
      "cell_type": "code",
      "metadata": {
        "id": "-Ma6glApFyKl"
      },
      "source": [
        ""
      ],
      "execution_count": null,
      "outputs": []
    }
  ]
}