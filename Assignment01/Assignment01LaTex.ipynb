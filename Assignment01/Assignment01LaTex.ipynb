{
  "nbformat": 4,
  "nbformat_minor": 0,
  "metadata": {
    "colab": {
      "name": "Assignment01LaTex",
      "provenance": [],
      "authorship_tag": "ABX9TyMwnQTbXaJvnCrFtSdtVF2l",
      "include_colab_link": true
    },
    "kernelspec": {
      "name": "python3",
      "display_name": "Python 3"
    }
  },
  "cells": [
    {
      "cell_type": "markdown",
      "metadata": {
        "id": "view-in-github",
        "colab_type": "text"
      },
      "source": [
        "<a href=\"https://colab.research.google.com/github/DJLee68/MachineLearningProject/blob/master/Assignment01/Assignment01LaTex.ipynb\" target=\"_parent\"><img src=\"https://colab.research.google.com/assets/colab-badge.svg\" alt=\"Open In Colab\"/></a>"
      ]
    },
    {
      "cell_type": "markdown",
      "metadata": {
        "id": "WS5ITMWTX82p",
        "colab_type": "text"
      },
      "source": [
        "$(1) f(x) = a x^2 + bx + c$"
      ]
    },
    {
      "cell_type": "markdown",
      "metadata": {
        "id": "2eaKL2SeYMKP",
        "colab_type": "text"
      },
      "source": [
        "$(2) f(x) = exp(x)$"
      ]
    },
    {
      "cell_type": "markdown",
      "metadata": {
        "id": "QcgPcTpcYeaX",
        "colab_type": "text"
      },
      "source": [
        "$(3)f(x) = {a \\over b},\\space \\space a \\in \\mathbb{R}, b \\in \\mathbb{R} $"
      ]
    },
    {
      "cell_type": "markdown",
      "metadata": {
        "id": "vQ-OBCfoaJ-Y",
        "colab_type": "text"
      },
      "source": [
        "$(4)f(x) = \\sum_{i=1}^{n} x_i, \\space\\space\\space x = (x_1, x_2, \\dotsm{},x_n)$"
      ]
    },
    {
      "cell_type": "markdown",
      "metadata": {
        "id": "YgOATEU8e23N",
        "colab_type": "text"
      },
      "source": [
        "$(5)f(x) = \\int_\\Omega \\sigma(x,t){dt}$"
      ]
    },
    {
      "cell_type": "markdown",
      "metadata": {
        "id": "2mXpI-bRe3Cg",
        "colab_type": "text"
      },
      "source": [
        "$(6){\\partial\\mathbb{E} \\over \\partial\\omega}$"
      ]
    }
  ]
}