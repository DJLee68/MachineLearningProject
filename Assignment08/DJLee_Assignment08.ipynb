{
  "nbformat": 4,
  "nbformat_minor": 0,
  "metadata": {
    "colab": {
      "name": "Assignment08/DJLee_Assignment08.ipynb",
      "provenance": [],
      "collapsed_sections": [],
      "authorship_tag": "ABX9TyNesy7M4ZEZSJVg4BZMfGtQ",
      "include_colab_link": true
    },
    "kernelspec": {
      "name": "python3",
      "display_name": "Python 3"
    },
    "accelerator": "GPU"
  },
  "cells": [
    {
      "cell_type": "markdown",
      "metadata": {
        "id": "view-in-github",
        "colab_type": "text"
      },
      "source": [
        "<a href=\"https://colab.research.google.com/github/DJLee68/MachineLearningProject/blob/master/Assignment08/DJLee_Assignment08.ipynb\" target=\"_parent\"><img src=\"https://colab.research.google.com/assets/colab-badge.svg\" alt=\"Open In Colab\"/></a>"
      ]
    },
    {
      "cell_type": "code",
      "metadata": {
        "id": "yf4y7Lj49qF9",
        "outputId": "03f81f57-ad0e-4ca7-9232-8cee801fb167",
        "colab": {
          "base_uri": "https://localhost:8080/",
          "height": 607
        }
      },
      "source": [
        "import numpy as np\n",
        "import matplotlib.pyplot as plt\n",
        "import pandas as pd\n",
        "\n",
        "dataset = np.loadtxt(\"data-pca.txt\", delimiter=',')\n",
        "\n",
        "x = dataset[:,0]\n",
        "y = dataset[:,1]\n",
        "\n",
        "# plot data\n",
        "plt.figure(1,figsize=(10,10))\n",
        "plt.scatter(x, y, s=50, c='red', marker='+') \n",
        "plt.title('original data point')\n",
        "plt.show()"
      ],
      "execution_count": 51,
      "outputs": [
        {
          "output_type": "display_data",
          "data": {
            "image/png": "[encoded data removed]",
            "text/plain": [
              "<Figure size 720x720 with 1 Axes>"
            ]
          },
          "metadata": {
            "tags": [],
            "needs_background": "light"
          }
        }
      ]
    },
    {
      "cell_type": "code",
      "metadata": {
        "id": "Wv8Fx0bt-SKB"
      },
      "source": [
        "def normalize_data(x, y):\n",
        "\n",
        "    xn = ((x-np.mean(x)) / np.std(x)).reshape(-1,1) # normalize x. the mean of xn is zero and the standard deviation of xn is one #\n",
        "    yn = ((y-np.mean(y)) / np.std(y)).reshape(-1,1) # normalize y. the mean of yn is zero and the standard deviation of yn is one #\n",
        "\n",
        "    return xn, yn\n",
        " "
      ],
      "execution_count": 36,
      "outputs": []
    },
    {
      "cell_type": "code",
      "metadata": {
        "id": "Mw0-8JCEHIsP",
        "outputId": "7d67cc98-6bc7-4845-95c8-9132ecf0f799",
        "colab": {
          "base_uri": "https://localhost:8080/",
          "height": 607
        }
      },
      "source": [
        "xn, yn = normalize_data(x, y)\n",
        "\n",
        "# plot data\n",
        "plt.figure(2,figsize=(10,10))\n",
        "plt.scatter(xn, yn, s=50, c='red', marker='+') \n",
        "plt.title('data normalized by z-scoring')\n",
        "plt.show()"
      ],
      "execution_count": 52,
      "outputs": [
        {
          "output_type": "display_data",
          "data": {
            "image/png": "[encoded data removed]",
            "text/plain": [
              "<Figure size 720x720 with 1 Axes>"
            ]
          },
          "metadata": {
            "tags": [],
            "needs_background": "light"
          }
        }
      ]
    },
    {
      "cell_type": "code",
      "metadata": {
        "id": "qXNHxvwkCHQv"
      },
      "source": [
        "def compute_covariance(x, y):\n",
        "\n",
        "    z = np.concatenate((x,y), axis=1)\n",
        "    covar = np.dot(z.T, z) / len(z)# compute the covariance matrix #\n",
        "    \n",
        "    return covar\n"
      ],
      "execution_count": 46,
      "outputs": []
    },
    {
      "cell_type": "code",
      "metadata": {
        "id": "m9vvg4sQDGwj",
        "outputId": "01ec9644-38e8-4e0b-bf77-b1f44bf7e3c3",
        "colab": {
          "base_uri": "https://localhost:8080/"
        }
      },
      "source": [
        "covar = compute_covariance(xn, yn)\n",
        "print(covar)"
      ],
      "execution_count": 53,
      "outputs": [
        {
          "output_type": "stream",
          "text": [
            "[[1.      0.73553]\n",
            " [0.73553 1.     ]]\n"
          ],
          "name": "stdout"
        }
      ]
    },
    {
      "cell_type": "code",
      "metadata": {
        "id": "LLQe1cRDDXGf"
      },
      "source": [
        " def compute_principal_direction(covariance):\n",
        "    e_value, e_vector = np.linalg.eig(covariance)\n",
        "    max_e_value_idx = np.argmax(e_value)\n",
        "    direction = e_vector[max_e_value_idx]# compute the principal directions from the co-variance matrix #\n",
        "     \n",
        "    return direction, e_vector\n"
      ],
      "execution_count": 69,
      "outputs": []
    },
    {
      "cell_type": "code",
      "metadata": {
        "id": "qbZbivUDPiFg",
        "outputId": "71a81e75-4abb-466a-d653-f683e4f67c4d",
        "colab": {
          "base_uri": "https://localhost:8080/"
        }
      },
      "source": [
        "pc, c = compute_principal_direction(covar)\n",
        "\n",
        "# plot data\n",
        "plt.figure(2,figsize=(10,10))\n",
        "plt.scatter(xn, yn, s=50, c='red', marker='+') \n",
        "plt.title('data normalized by z-scoring')\n",
        "plt.show()"
      ],
      "execution_count": 70,
      "outputs": [
        {
          "output_type": "stream",
          "text": [
            "[ 0.70710678 -0.70710678]\n"
          ],
          "name": "stdout"
        }
      ]
    },
    {
      "cell_type": "code",
      "metadata": {
        "id": "1j8-ts5gE4qj"
      },
      "source": [
        "def compute_distance(a, b):\n",
        "\n",
        "    dist = np.sqrt(np.square(a[0] - b[0]) + np.square(a[1] - b[1]))\n",
        "\n",
        "    return dist"
      ],
      "execution_count": null,
      "outputs": []
    },
    {
      "cell_type": "markdown",
      "metadata": {
        "id": "e8NTUbXBGA1p"
      },
      "source": [
        "## Output using the dataset"
      ]
    },
    {
      "cell_type": "markdown",
      "metadata": {
        "id": "loBPs6M4GBlZ"
      },
      "source": [
        "1. Plot the original data points [1pt]"
      ]
    },
    {
      "cell_type": "code",
      "metadata": {
        "id": "u-rOmexxF-GI",
        "outputId": "34646edf-4082-490d-9203-91a6c04e3b2c",
        "colab": {
          "base_uri": "https://localhost:8080/",
          "height": 130
        }
      },
      "source": [
        ""
      ],
      "execution_count": 50,
      "outputs": [
        {
          "output_type": "error",
          "ename": "SyntaxError",
          "evalue": "ignored",
          "traceback": [
            "\u001b[0;36m  File \u001b[0;32m\"<ipython-input-50-6701fec8857f>\"\u001b[0;36m, line \u001b[0;32m1\u001b[0m\n\u001b[0;31m    1. Plot the original data points [1pt]\u001b[0m\n\u001b[0m          ^\u001b[0m\n\u001b[0;31mSyntaxError\u001b[0m\u001b[0;31m:\u001b[0m invalid syntax\n"
          ]
        }
      ]
    },
    {
      "cell_type": "markdown",
      "metadata": {
        "id": "4sshlJEPGCcL"
      },
      "source": [
        "2. Plot the normalized data points [1pt]"
      ]
    },
    {
      "cell_type": "code",
      "metadata": {
        "id": "oPNzNIGkF-UH"
      },
      "source": [
        ""
      ],
      "execution_count": null,
      "outputs": []
    },
    {
      "cell_type": "markdown",
      "metadata": {
        "id": "uxxpBSh_GDpP"
      },
      "source": [
        "3. Plot the principal axes [2pt]"
      ]
    },
    {
      "cell_type": "code",
      "metadata": {
        "id": "0Ek0PZLPF-cg"
      },
      "source": [
        ""
      ],
      "execution_count": null,
      "outputs": []
    },
    {
      "cell_type": "markdown",
      "metadata": {
        "id": "wnBO_W3wGETH"
      },
      "source": [
        "4. Plot the first principal axis [3pt]"
      ]
    },
    {
      "cell_type": "code",
      "metadata": {
        "id": "rli7AuSBF-h0"
      },
      "source": [
        ""
      ],
      "execution_count": null,
      "outputs": []
    },
    {
      "cell_type": "markdown",
      "metadata": {
        "id": "bMz1y3ZoGFMF"
      },
      "source": [
        "5. Plot the project of the normalized data points onto the first principal axis [4pt]"
      ]
    },
    {
      "cell_type": "code",
      "metadata": {
        "id": "8AYIrbscF-mb"
      },
      "source": [
        ""
      ],
      "execution_count": null,
      "outputs": []
    },
    {
      "cell_type": "markdown",
      "metadata": {
        "id": "pqdD6NRpGFsa"
      },
      "source": [
        "6. Plot the lines between the normalized data points and their projection points on the first principal axis [3pt]\n",
        "\n"
      ]
    },
    {
      "cell_type": "code",
      "metadata": {
        "id": "1GH7gutfF-qQ"
      },
      "source": [
        ""
      ],
      "execution_count": null,
      "outputs": []
    },
    {
      "cell_type": "markdown",
      "metadata": {
        "id": "AhyVvX7OGGPj"
      },
      "source": [
        "7. Plot the second principal axis [3pt]"
      ]
    },
    {
      "cell_type": "code",
      "metadata": {
        "id": "VuYE2x0mF-ue"
      },
      "source": [
        ""
      ],
      "execution_count": null,
      "outputs": []
    },
    {
      "cell_type": "markdown",
      "metadata": {
        "id": "boKtMA_9Gg3K"
      },
      "source": [
        "8. Plot the project of the normalized data points onto the second principal axis [4pt]"
      ]
    },
    {
      "cell_type": "code",
      "metadata": {
        "id": "B2KFW4t5F-xy"
      },
      "source": [
        ""
      ],
      "execution_count": null,
      "outputs": []
    },
    {
      "cell_type": "markdown",
      "metadata": {
        "id": "no-AYREsGhR0"
      },
      "source": [
        "9. Plot the lines between the normalized data points and their projection points on the second principal axis [3pt]"
      ]
    },
    {
      "cell_type": "code",
      "metadata": {
        "id": "FuDLz97AF-1K"
      },
      "source": [
        ""
      ],
      "execution_count": null,
      "outputs": []
    }
  ]
}