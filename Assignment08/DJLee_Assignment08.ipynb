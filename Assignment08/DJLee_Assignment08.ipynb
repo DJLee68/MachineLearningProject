{
  "nbformat": 4,
  "nbformat_minor": 0,
  "metadata": {
    "colab": {
      "name": "Assignment08/DJLee_Assignment08.ipynb",
      "provenance": [],
      "collapsed_sections": [],
      "authorship_tag": "ABX9TyPA7jBxbU8kQasRR1W4CBqW",
      "include_colab_link": true
    },
    "kernelspec": {
      "name": "python3",
      "display_name": "Python 3"
    },
    "accelerator": "GPU"
  },
  "cells": [
    {
      "cell_type": "markdown",
      "metadata": {
        "id": "view-in-github",
        "colab_type": "text"
      },
      "source": [
        "<a href=\"https://colab.research.google.com/github/DJLee68/MachineLearningProject/blob/master/Assignment08/DJLee_Assignment08.ipynb\" target=\"_parent\"><img src=\"https://colab.research.google.com/assets/colab-badge.svg\" alt=\"Open In Colab\"/></a>"
      ]
    },
    {
      "cell_type": "code",
      "metadata": {
        "id": "yf4y7Lj49qF9"
      },
      "source": [
        "import numpy as np\n",
        "import matplotlib.pyplot as plt\n",
        "import pandas as pd\n",
        "\n",
        "dataset = np.loadtxt(\"data-pca.txt\", delimiter=',')\n",
        "\n",
        "x = dataset[:,0]\n",
        "y = dataset[:,1]"
      ],
      "execution_count": 13,
      "outputs": []
    },
    {
      "cell_type": "code",
      "metadata": {
        "id": "Wv8Fx0bt-SKB"
      },
      "source": [
        "def normalize_data(x, y):\n",
        "\n",
        "    xn = ((x-np.mean(x)) / np.std(x)).reshape(-1,1) # normalize x. the mean of xn is zero and the standard deviation of xn is one #\n",
        "    yn = ((y-np.mean(y)) / np.std(y)).reshape(-1,1) # normalize y. the mean of yn is zero and the standard deviation of yn is one #\n",
        "\n",
        "    return xn, yn\n",
        " "
      ],
      "execution_count": 36,
      "outputs": []
    },
    {
      "cell_type": "code",
      "metadata": {
        "id": "qXNHxvwkCHQv"
      },
      "source": [
        "def compute_covariance(x, y):\n",
        "\n",
        "    z = np.concatenate((x,y), axis=1)\n",
        "    covar = np.dot(z.T, z) / len(z)# compute the covariance matrix #\n",
        "    \n",
        "    return covar\n"
      ],
      "execution_count": 46,
      "outputs": []
    },
    {
      "cell_type": "code",
      "metadata": {
        "id": "EbO8xiePDGWd"
      },
      "source": [
        "xn, yn = normalize_data(x, y)"
      ],
      "execution_count": 47,
      "outputs": []
    },
    {
      "cell_type": "code",
      "metadata": {
        "id": "m9vvg4sQDGwj"
      },
      "source": [
        "covar = compute_covariance(xn, yn)"
      ],
      "execution_count": 48,
      "outputs": []
    },
    {
      "cell_type": "code",
      "metadata": {
        "id": "LLQe1cRDDXGf",
        "outputId": "297df129-872c-4962-ba47-76855db13c2c",
        "colab": {
          "base_uri": "https://localhost:8080/"
        }
      },
      "source": [
        "covar.shape"
      ],
      "execution_count": 49,
      "outputs": [
        {
          "output_type": "execute_result",
          "data": {
            "text/plain": [
              "(2, 2)"
            ]
          },
          "metadata": {
            "tags": []
          },
          "execution_count": 49
        }
      ]
    },
    {
      "cell_type": "code",
      "metadata": {
        "id": "1j8-ts5gE4qj"
      },
      "source": [
        ""
      ],
      "execution_count": null,
      "outputs": []
    }
  ]
}