{
  "nbformat": 4,
  "nbformat_minor": 0,
  "metadata": {
    "colab": {
      "name": "Assignment08/DJLee_Assignment08.ipynb",
      "provenance": [],
      "collapsed_sections": [],
      "authorship_tag": "ABX9TyOAGEdjbf+Vjf/XSR9a5piq",
      "include_colab_link": true
    },
    "kernelspec": {
      "name": "python3",
      "display_name": "Python 3"
    },
    "accelerator": "GPU"
  },
  "cells": [
    {
      "cell_type": "markdown",
      "metadata": {
        "id": "view-in-github",
        "colab_type": "text"
      },
      "source": [
        "<a href=\"https://colab.research.google.com/github/DJLee68/MachineLearningProject/blob/master/Assignment08/DJLee_Assignment08.ipynb\" target=\"_parent\"><img src=\"https://colab.research.google.com/assets/colab-badge.svg\" alt=\"Open In Colab\"/></a>"
      ]
    },
    {
      "cell_type": "code",
      "metadata": {
        "id": "yf4y7Lj49qF9"
      },
      "source": [
        "import numpy as np\n",
        "import matplotlib.pyplot as plt\n",
        "import pandas as pd\n",
        "\n",
        "dataset = np.loadtxt(\"data-pca.txt\", delimiter=',')\n",
        "\n",
        "x = dataset[:,0]\n",
        "y = dataset[:,1]"
      ],
      "execution_count": null,
      "outputs": []
    },
    {
      "cell_type": "code",
      "metadata": {
        "id": "Wv8Fx0bt-SKB"
      },
      "source": [
        "def normalize_data(x, y):\n",
        "\n",
        "    xn = (x-np.mean(x)) / np.# normalize x. the mean of xn is zero and the standard deviation of xn is one #\n",
        "    yn = # normalize y. the mean of yn is zero and the standard deviation of yn is one #\n",
        "\n",
        "    return xn, yn\n",
        " "
      ],
      "execution_count": null,
      "outputs": []
    }
  ]
}