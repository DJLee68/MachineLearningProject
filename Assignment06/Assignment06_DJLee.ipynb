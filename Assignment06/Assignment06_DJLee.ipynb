{
  "nbformat": 4,
  "nbformat_minor": 0,
  "metadata": {
    "colab": {
      "name": "Assignment06_DJLee.ipynb",
      "provenance": [],
      "authorship_tag": "ABX9TyPbHlB16JPoFlRWPSRfXFpy",
      "include_colab_link": true
    },
    "kernelspec": {
      "name": "python3",
      "display_name": "Python 3"
    },
    "accelerator": "GPU"
  },
  "cells": [
    {
      "cell_type": "markdown",
      "metadata": {
        "id": "view-in-github",
        "colab_type": "text"
      },
      "source": [
        "<a href=\"https://colab.research.google.com/github/DJLee68/MachineLearningProject/blob/master/Assignment06/Assignment06_DJLee.ipynb\" target=\"_parent\"><img src=\"https://colab.research.google.com/assets/colab-badge.svg\" alt=\"Open In Colab\"/></a>"
      ]
    },
    {
      "cell_type": "code",
      "metadata": {
        "id": "pbL3mPp4i9At"
      },
      "source": [
        "import numpy as np\n",
        "import matplotlib.pyplot as plt\n",
        "\n",
        "# import data with numpy\n",
        "data_train  = np.loadtxt('training.txt', delimiter=',')\n",
        "data_test   = np.loadtxt('testing.txt', delimiter=',')\n",
        "\n",
        "# number of training data\n",
        "number_data_train   = data_train.shape[0] \n",
        "number_data_test    = data_test.shape[0]\n",
        "\n",
        "# training data\n",
        "x1_train            = data_train[:,0] # feature 1\n",
        "x2_train            = data_train[:,1] # feature 2\n",
        "idx_class0_train    = (data_train[:,2]==0) # index of class0\n",
        "idx_class1_train    = (data_train[:,2]==1) # index of class1\n",
        "\n",
        "# testing data\n",
        "x1_test             = data_test[:,0] # feature 1\n",
        "x2_test             = data_test[:,1] # feature 2\n",
        "idx_class0_test     = (data_test[:,2]==0) # index of class0\n",
        "idx_class1_test     = (data_test[:,2]==1) # index of class1\n"
      ],
      "execution_count": 1,
      "outputs": []
    },
    {
      "cell_type": "code",
      "metadata": {
        "id": "np_fMdiDjOeY"
      },
      "source": [
        ""
      ],
      "execution_count": null,
      "outputs": []
    }
  ]
}